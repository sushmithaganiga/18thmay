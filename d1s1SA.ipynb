{
  "nbformat": 4,
  "nbformat_minor": 0,
  "metadata": {
    "colab": {
      "name": "d1s1SA.ipynb",
      "provenance": [],
      "authorship_tag": "ABX9TyPkyxWBY8ECf3YJEjvTwlcz",
      "include_colab_link": true
    },
    "kernelspec": {
      "name": "python3",
      "display_name": "Python 3"
    }
  },
  "cells": [
    {
      "cell_type": "markdown",
      "metadata": {
        "id": "view-in-github",
        "colab_type": "text"
      },
      "source": [
        "<a href=\"https://colab.research.google.com/github/sushmithaganiga/Report/blob/master/d1s1SA.ipynb\" target=\"_parent\"><img src=\"https://colab.research.google.com/assets/colab-badge.svg\" alt=\"Open In Colab\"/></a>"
      ]
    },
    {
      "cell_type": "code",
      "metadata": {
        "id": "ughaNnqwG2i5",
        "colab_type": "code",
        "colab": {
          "base_uri": "https://localhost:8080/",
          "height": 54
        },
        "outputId": "bfc73929-6d4e-40e5-d103-ac21a17698d2"
      },
      "source": [
        "import math \n",
        "pi = math.pi   \n",
        "def surfaceareac(r, h): \n",
        "    return 2* pi * r * r * h\n",
        "def surfaceareaco(r, h): \n",
        "    return (1 / 3) * pi * r * r * h\n",
        "radius = float(5) \n",
        "height = float(12)  \n",
        "print( \"Surface Area Of Cylinder : \",  surfaceareac(radius, height))\n",
        "print( \"Surface Area Of Cone : \",surfaceareaco(radius, height) )"
      ],
      "execution_count": 15,
      "outputs": [
        {
          "output_type": "stream",
          "text": [
            "Surface Area Of Cylinder :  1884.9555921538758\n",
            "Surface Area Of Cone :  314.15926535897927\n"
          ],
          "name": "stdout"
        }
      ]
    }
  ]
}