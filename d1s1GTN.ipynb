{
  "nbformat": 4,
  "nbformat_minor": 0,
  "metadata": {
    "colab": {
      "name": "d1s1GTN.ipynb",
      "provenance": [],
      "authorship_tag": "ABX9TyNr6v81C8oEroAa/LERCZ7c",
      "include_colab_link": true
    },
    "kernelspec": {
      "name": "python3",
      "display_name": "Python 3"
    }
  },
  "cells": [
    {
      "cell_type": "markdown",
      "metadata": {
        "id": "view-in-github",
        "colab_type": "text"
      },
      "source": [
        "<a href=\"https://colab.research.google.com/github/sushmithaganiga/Report/blob/master/d1s1GTN.ipynb\" target=\"_parent\"><img src=\"https://colab.research.google.com/assets/colab-badge.svg\" alt=\"Open In Colab\"/></a>"
      ]
    },
    {
      "cell_type": "code",
      "metadata": {
        "id": "ughaNnqwG2i5",
        "colab_type": "code",
        "colab": {
          "base_uri": "https://localhost:8080/",
          "height": 72
        },
        "outputId": "2660f271-5eed-4b85-de24-58df2e924964"
      },
      "source": [
        "n1=int(input(\"Enter number 1 \"))\n",
        "n2=int(input(\"Enter number 2 \"))\n",
        "if (n1>=n2):\n",
        " large=n1\n",
        "else:\n",
        "  large=n2\n",
        "print(\"Greater number is:\",large)"
      ],
      "execution_count": 9,
      "outputs": [
        {
          "output_type": "stream",
          "text": [
            "Enter number 1 12\n",
            "Enter number 2 1\n",
            "Greater number is: 12\n"
          ],
          "name": "stdout"
        }
      ]
    }
  ]
}